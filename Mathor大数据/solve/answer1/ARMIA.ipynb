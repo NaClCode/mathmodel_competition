{
 "cells": [
  {
   "cell_type": "code",
   "execution_count": 2,
   "metadata": {},
   "outputs": [],
   "source": [
    "import pmdarima as pm\n",
    "import pandas as pd\n",
    "from sklearn.preprocessing import MinMaxScaler\n",
    "data = pd.read_csv('No_abnormality_time/time2.csv', index_col=3)\n",
    "length = data.qty.shape[0]\n",
    "scaler = MinMaxScaler()\n",
    "data.qty = scaler.fit_transform(data.qty.values.reshape(-1, 1))\n",
    "train_data = data.qty[:int(length * 0.8)]\n",
    "test_data = data.qty[int(length * 0.8):]"
   ]
  },
  {
   "cell_type": "code",
   "execution_count": 3,
   "metadata": {},
   "outputs": [],
   "source": [
    "md = pm.auto_arima(train_data, start_p=1, start_q=1,\n",
    "                      information_criterion='aic',\n",
    "                      test='adf',       # use adftest to find optimal 'd'\n",
    "                      max_p=3, max_q=3, # maximum p and q\n",
    "                      m=30,              # frequency of series\n",
    "                      d=None,           # let model determine 'd'\n",
    "                      seasonal=True,   # No Seasonality\n",
    "                      start_P=0, \n",
    "                      D=0)"
   ]
  },
  {
   "cell_type": "code",
   "execution_count": 4,
   "metadata": {},
   "outputs": [],
   "source": [
    "import pylab as plt\n",
    "import numpy as np\n",
    "def wmapes(y_true, y_pred):\n",
    "    return 1 - np.sum(np.abs(y_true - y_pred)) / np.sum(y_true)\n"
   ]
  },
  {
   "cell_type": "code",
   "execution_count": 5,
   "metadata": {},
   "outputs": [],
   "source": [
    "test_data = scaler.inverse_transform(test_data.values.reshape(-1, 1))\n",
    "test_data_predict = scaler.inverse_transform(md.predict(n_periods=test_data.shape[0]).values.reshape(-1, 1))"
   ]
  },
  {
   "cell_type": "code",
   "execution_count": 6,
   "metadata": {},
   "outputs": [
    {
     "data": {
      "text/plain": [
       "0.7396712170580058"
      ]
     },
     "execution_count": 6,
     "metadata": {},
     "output_type": "execute_result"
    }
   ],
   "source": [
    "wmapes(test_data, test_data_predict)\n",
    "import pickle\n",
    "pickle.dump(md, open('No_abnormality_time/model.pkl', 'wb'))"
   ]
  }
 ],
 "metadata": {
  "kernelspec": {
   "display_name": "Python 3",
   "language": "python",
   "name": "python3"
  },
  "language_info": {
   "codemirror_mode": {
    "name": "ipython",
    "version": 3
   },
   "file_extension": ".py",
   "mimetype": "text/x-python",
   "name": "python",
   "nbconvert_exporter": "python",
   "pygments_lexer": "ipython3",
   "version": "3.11.5"
  },
  "orig_nbformat": 4
 },
 "nbformat": 4,
 "nbformat_minor": 2
}
