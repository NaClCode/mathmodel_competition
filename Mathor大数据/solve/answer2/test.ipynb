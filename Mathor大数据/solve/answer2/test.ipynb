{
 "cells": [
  {
   "cell_type": "code",
   "execution_count": 16,
   "metadata": {},
   "outputs": [],
   "source": [
    "import pandas as pd\n",
    "data = pd.read_excel('../附件5-新品历史出货量表.xlsx')"
   ]
  },
  {
   "cell_type": "code",
   "execution_count": 17,
   "metadata": {},
   "outputs": [],
   "source": [
    "ret = []\n",
    "for i in data['seller_no'].value_counts().index:\n",
    "    for j in data['warehouse_no'].value_counts().index:\n",
    "            ret.append(data[(data['seller_no'] == i) & (data['warehouse_no'] == j)])"
   ]
  },
  {
   "cell_type": "code",
   "execution_count": 19,
   "metadata": {},
   "outputs": [],
   "source": [
    "k = 0\n",
    "for i in ret:\n",
    "    for j in i['product_no'].value_counts().index:\n",
    "        i[(i['product_no'] == j)].sort_values(by = 'date').to_csv(f'time/time{k}.csv', index = False)\n",
    "        k += 1"
   ]
  },
  {
   "cell_type": "code",
   "execution_count": 20,
   "metadata": {},
   "outputs": [],
   "source": [
    "import tsfresh\n",
    "import pandas as pd\n",
    "import numpy as np\n",
    "import warnings \n",
    "from tsfresh.feature_extraction import MinimalFCParameters\n",
    "settings = MinimalFCParameters()\n",
    "warnings.filterwarnings('ignore')\n",
    "for i in range(210):\n",
    "    data = pd.read_csv(f'No_abnormality_time/time{i}.csv')\n",
    "    data['id'] = i\n",
    "    if i == 0:\n",
    "        df = data.copy()\n",
    "    else:\n",
    "        df = df.merge(data, how = 'outer', on = df.columns.to_list())\n",
    "df.loc[:, ['id', 'qty', 'date' ]].to_csv('time.csv', index = False)"
   ]
  },
  {
   "cell_type": "code",
   "execution_count": 21,
   "metadata": {},
   "outputs": [
    {
     "name": "stderr",
     "output_type": "stream",
     "text": [
      "Feature Extraction: 100%|██████████| 35/35 [00:03<00:00, 10.77it/s]\n"
     ]
    }
   ],
   "source": [
    "from tsfresh.feature_extraction import extract_features\n",
    "data = pd.read_csv('time.csv')[['id', 'date', 'qty']]\n",
    "ret = extract_features(data, default_fc_parameters=settings, column_id=\"id\", column_sort=\"date\")\n",
    "ret.to_csv('time_feature_min.csv', index=False)"
   ]
  },
  {
   "cell_type": "code",
   "execution_count": 22,
   "metadata": {},
   "outputs": [],
   "source": [
    "import pandas as pd\n",
    "data = pd.read_csv('time_feature_min.csv')\n",
    "data2 = pd.read_excel('../附件2-商品信息表.xlsx')\n",
    "data3 = pd.read_excel('../附件3-商家信息表.xlsx')\n",
    "data4 = pd.read_excel('../附件4-仓库信息表.xlsx')\n",
    "\n",
    "for i in range(210):\n",
    "    temp = pd.read_csv(f'No_abnormality_time/time{i}.csv')\n",
    "    v = data3[data3['seller_no'] == temp.iloc[0, 0]]\n",
    "    for j in ['seller_category', 'inventory_category', 'seller_level']:\n",
    "        data.loc[i, j] = v[j].values[0]\n",
    "    v = data2[data2['product_no'] == temp.iloc[0, 2]]\n",
    "    for j in ['category1', 'category2', 'category3']:\n",
    "        data.loc[i, j] = v[j].values[0]\n",
    "    v = data4[data4['warehouse_no'] == temp.iloc[0, 1]]\n",
    "    for j in ['warehouse _category', 'warehouse _region']:\n",
    "        data.loc[i, j] = v[j].values[0]"
   ]
  },
  {
   "cell_type": "code",
   "execution_count": 23,
   "metadata": {},
   "outputs": [],
   "source": [
    "data.to_csv('time_feature_finish.csv', index=False)"
   ]
  },
  {
   "cell_type": "code",
   "execution_count": 24,
   "metadata": {},
   "outputs": [],
   "source": [
    "import pandas as pd\n",
    "data_ = pd.read_csv('time_feature_finish.csv')[['qty__standard_deviation', 'qty__mean', 'seller_level', 'warehouse _region', 'category1']]\n",
    "data_ = pd.get_dummies(data_)"
   ]
  },
  {
   "cell_type": "code",
   "execution_count": 25,
   "metadata": {},
   "outputs": [],
   "source": [
    "data_ = data_.drop(labels='seller_level_New', axis = 1)\n",
    "for i in ['category1_传统滋补', 'category1_家庭清洁/纸品','category1_珠宝首饰',\n",
    "       'category1_运动户外','category1_酒类', 'category1_鲜花/奢侈品']:\n",
    "    data_[i] = False"
   ]
  },
  {
   "cell_type": "code",
   "execution_count": 26,
   "metadata": {},
   "outputs": [],
   "source": [
    "data_ = data_[['qty__standard_deviation', 'qty__mean', 'seller_level_Large',\n",
    "       'seller_level_Medium', 'seller_level_Small', 'seller_level_Special',\n",
    "       'warehouse _region_东北', 'warehouse _region_华东', 'warehouse _region_华中',\n",
    "       'warehouse _region_华北', 'warehouse _region_华南', 'warehouse _region_西北',\n",
    "       'warehouse _region_西南', 'category1_个人护理', 'category1_传统滋补',\n",
    "       'category1_厨具', 'category1_宠物生活', 'category1_家具', 'category1_家庭清洁/纸品',\n",
    "       'category1_家用电器', 'category1_家装建材', 'category1_手机通讯', 'category1_数码',\n",
    "       'category1_服饰内衣', 'category1_玩具乐器', 'category1_珠宝首饰', 'category1_生活日用',\n",
    "       'category1_电脑、办公', 'category1_美妆护肤', 'category1_运动户外', 'category1_酒类',\n",
    "       'category1_食品饮料', 'category1_鲜花/奢侈品']]"
   ]
  },
  {
   "cell_type": "code",
   "execution_count": 27,
   "metadata": {},
   "outputs": [],
   "source": [
    "import pickle\n",
    "model = pickle.load(open('K-meas.pkl', 'rb'))"
   ]
  },
  {
   "cell_type": "code",
   "execution_count": 28,
   "metadata": {},
   "outputs": [],
   "source": [
    "data_['label'] = model.predict(data_)\n",
    "data_.to_csv('time_cluster.csv', index = False)\n"
   ]
  },
  {
   "cell_type": "code",
   "execution_count": 29,
   "metadata": {},
   "outputs": [],
   "source": [
    "def series_to_supervised(data, n_in=1, n_out=1, dropnan=True):\n",
    "    n_vars = 1 if type(data) is list else data.shape[1]\n",
    "    df = pd.DataFrame(data)\n",
    "    cols, names = list(), list()\n",
    "    # input sequence (t-n, ... t-1)\n",
    "    for i in range(n_in, 0, -1):\n",
    "        cols.append(df.shift(i))\n",
    "        names += [('var%d(t-%d)' % (j+1, i)) for j in range(n_vars)]\n",
    "    # forecast sequence (t, t+1, ... t+n)\n",
    "    for i in range(0, n_out):\n",
    "        cols.append(df.shift(-i))\n",
    "        if i == 0:\n",
    "            names += [('var%d(t)' % (j+1)) for j in range(n_vars)]\n",
    "        else:\n",
    "            names += [('var%d(t+%d)' % (j+1, i)) for j in range(n_vars)]\n",
    "    # put it all together\n",
    "    agg = pd.concat(cols, axis=1)\n",
    "    agg.columns = names\n",
    "    # drop rows with NaN values\n",
    "    if dropnan:\n",
    "        agg.dropna(inplace=True)\n",
    "    return agg"
   ]
  },
  {
   "cell_type": "code",
   "execution_count": 97,
   "metadata": {},
   "outputs": [],
   "source": [
    "import numpy as np\n",
    "import pandas as pd\n",
    "import pickle\n",
    "labels = pd.read_csv('time_cluster.csv')['label']\n",
    "\n",
    "index = pd.Series(np.arange(0, 210))\n",
    "r = []\n",
    "for i in range(0, 7):\n",
    "    ret = []\n",
    "    for j in index[(labels == i)]:\n",
    "        data_ = pd.read_csv(f'No_abnormality_time/time{j}.csv')\n",
    "        n_in = 30\n",
    "        n_out = 15\n",
    "        # 将时序数据转换为监督问题数据\n",
    "        reframed = series_to_supervised(data_.qty.values.reshape(-1, 1), n_in, n_out)    \n",
    "        \n",
    "        ret.append(reframed)\n",
    "    new = pd.concat(ret)\n",
    "    new['label'] = i\n",
    "    r.append(new)\n",
    "pickle.dump(pd.get_dummies(pd.concat(r), columns=['label']), open(f'timeseries.pkl', 'wb'))"
   ]
  },
  {
   "cell_type": "code",
   "execution_count": 98,
   "metadata": {},
   "outputs": [],
   "source": [
    "import numpy as np\n",
    "import pandas as pd\n",
    "import pickle\n",
    "labels = pd.read_csv('time_cluster.csv')['label']\n",
    "\n",
    "index = pd.Series(np.arange(0, 210))\n",
    "r = []\n",
    "for i in range(0, 7):\n",
    "    ret = []\n",
    "    for j in index[(labels == i)]:\n",
    "        data_ = pd.read_csv(f'No_abnormality_time/time{j}.csv')\n",
    "        n_in = 30\n",
    "        n_out = 0\n",
    "        # 将时序数据转换为监督问题数据\n",
    "        reframed = series_to_supervised(data_.qty[-31:].values.reshape(-1, 1), n_in, n_out)    \n",
    "        reframed['product_no'] = data_['product_no']\n",
    "        reframed['seller_no'] = data_['seller_no']\n",
    "        reframed['warehouse_no'] = data_['warehouse_no']\n",
    "        ret.append(reframed)\n",
    "    new = pd.concat(ret)\n",
    "    new['label'] = i\n",
    "    r.append(new)\n",
    "pickle.dump(pd.get_dummies(pd.concat(r), columns=['label']).dropna(), open(f'timeseries_test.pkl', 'wb'))"
   ]
  },
  {
   "cell_type": "code",
   "execution_count": 132,
   "metadata": {},
   "outputs": [
    {
     "name": "stdout",
     "output_type": "stream",
     "text": [
      "    var1(t-30)  var1(t-29)  var1(t-28)  var1(t-27)  var1(t-26)  var1(t-25)  \\\n",
      "30         5.0         7.0         8.0         6.0         7.0        10.0   \n",
      "30        14.0        11.0        17.0        12.0         8.0        10.0   \n",
      "30         9.0         6.0         8.0         6.0         3.0         3.0   \n",
      "30         3.0         2.0         2.0         5.0         1.0         5.0   \n",
      "30         3.0         4.0         3.0         1.0         5.0         3.0   \n",
      "..         ...         ...         ...         ...         ...         ...   \n",
      "30         0.0         0.0         1.0         1.0         0.0         2.0   \n",
      "30         2.0         2.0         0.0         0.0         1.0         1.0   \n",
      "30         1.0         7.0         3.0         1.0         2.0         1.0   \n",
      "30         0.0         0.0         0.0         0.0         0.0         0.0   \n",
      "30         1.0         0.0         0.0         1.0         0.0         0.0   \n",
      "\n",
      "    var1(t-24)  var1(t-23)  var1(t-22)  var1(t-21)  ...  var1(t-3)  var1(t-2)  \\\n",
      "30        12.0        16.0        15.0        17.0  ...       10.0       15.0   \n",
      "30         8.0         7.0        13.0         9.0  ...        7.0       12.0   \n",
      "30         7.0         6.0         8.0         5.0  ...        5.0        8.0   \n",
      "30         2.0         3.0         6.0         7.0  ...        7.0        8.0   \n",
      "30         3.0         3.0         5.0         3.0  ...        4.0        4.0   \n",
      "..         ...         ...         ...         ...  ...        ...        ...   \n",
      "30         0.0         0.0         0.0         1.0  ...        1.0        0.0   \n",
      "30         2.0         0.0         1.0         0.0  ...        0.0        0.0   \n",
      "30         4.0         3.0         3.0         7.0  ...       19.0       14.0   \n",
      "30         0.0         0.0         0.0         0.0  ...        0.0        0.0   \n",
      "30         1.0         0.0         0.0         2.0  ...        0.0        2.0   \n",
      "\n",
      "    var1(t-1)  label_0  label_1  label_2  label_3  label_4  label_5  label_6  \n",
      "30       16.0     True    False    False    False    False    False    False  \n",
      "30       12.0     True    False    False    False    False    False    False  \n",
      "30        3.0     True    False    False    False    False    False    False  \n",
      "30        5.0     True    False    False    False    False    False    False  \n",
      "30        3.0     True    False    False    False    False    False    False  \n",
      "..        ...      ...      ...      ...      ...      ...      ...      ...  \n",
      "30        2.0    False    False    False    False    False    False     True  \n",
      "30        0.0    False    False    False    False    False    False     True  \n",
      "30        5.0    False    False    False    False    False    False     True  \n",
      "30        0.0    False    False    False    False    False    False     True  \n",
      "30        0.0    False    False    False    False    False    False     True  \n",
      "\n",
      "[152 rows x 37 columns]\n"
     ]
    }
   ],
   "source": [
    "import pandas as pd\n",
    "import pickle\n",
    "data = pd.read_pickle('timeseries_test.pkl')\n",
    "train_data = pd.read_pickle('timeseries.pkl')\n",
    "y = train_data.iloc[:, 30:-7].values\n",
    "x = train_data.drop(columns=train_data.iloc[:, 30:-7].columns)\n",
    "model = pickle.load(open('lightgbm.pkl', 'rb'))\n",
    "# model.fit(x, y)\n",
    "x = pd.concat([data.iloc[:, :30], data.iloc[:, -7:]], join='outer', axis=1)\n",
    "y_pred = model.predict(x)\n",
    "print(x)\n",
    "ret = []\n",
    "for i, j in zip(y_pred, data.iloc[:, 30:-7].values):\n",
    "    _ = pd.DataFrame({'forecast_qty': i, 'date': [f'2023/5/{k}' for k in range(16, 31)]})\n",
    "    _['product_no'] = j[0]\n",
    "    _['seller_no'] = j[1]\n",
    "    _['warehouse_no'] = j[2]\n",
    "    ret.append(_)\n",
    "pd.concat(ret)[['seller_no', 'product_no', 'warehouse_no', 'date', 'forecast_qty']].to_excel('结果2-预测结果表.xlsx')"
   ]
  },
  {
   "cell_type": "code",
   "execution_count": 145,
   "metadata": {},
   "outputs": [],
   "source": [
    "_ = pd.read_csv(f'No_abnormality_time/time{0}.csv', index_col=3)\n",
    "_p = pd.read_excel('结果2-预测结果表.xlsx', index_col=0)\n",
    "_p = _p[(_p['product_no'] == 'product_424') & (_p['warehouse_no'] == 'wh_1')]"
   ]
  },
  {
   "cell_type": "code",
   "execution_count": 151,
   "metadata": {},
   "outputs": [
    {
     "data": {
      "image/png": "[encoded data removed]",
      "text/plain": [
       "<Figure size 640x480 with 1 Axes>"
      ]
     },
     "metadata": {},
     "output_type": "display_data"
    }
   ],
   "source": [
    "import pylab as plt\n",
    "import seaborn as sns\n",
    "from matplotlib.ticker import MaxNLocator\n",
    "sns.set(style=\"darkgrid\")\n",
    "plt.plot(_.index, _.qty, 'b')\n",
    "plt.plot([f'2023-05-{i}' for i in range(15, 17)], [_.qty[-1], _p['forecast_qty'].values[0]], 'b')\n",
    "plt.plot([f'2023-05-{i}' for i in range(16, 31)], _p['forecast_qty'].values, 'r')\n",
    "plt.xticks(rotation=40)\n",
    "ax = plt.gca()\n",
    "sns.despine()\n",
    "ax.xaxis.set_major_locator(MaxNLocator(steps=[2]))\n",
    "plt.savefig(fname = '第二问时间序列结果.png', dpi = 500, bbox_inches = 'tight', pad_inches = 0.0)"
   ]
  }
 ],
 "metadata": {
  "kernelspec": {
   "display_name": "Python 3",
   "language": "python",
   "name": "python3"
  },
  "language_info": {
   "codemirror_mode": {
    "name": "ipython",
    "version": 3
   },
   "file_extension": ".py",
   "mimetype": "text/x-python",
   "name": "python",
   "nbconvert_exporter": "python",
   "pygments_lexer": "ipython3",
   "version": "3.11.5"
  },
  "orig_nbformat": 4
 },
 "nbformat": 4,
 "nbformat_minor": 2
}
