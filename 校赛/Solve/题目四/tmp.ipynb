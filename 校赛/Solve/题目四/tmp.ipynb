{
 "cells": [
  {
   "cell_type": "code",
   "execution_count": 9,
   "metadata": {},
   "outputs": [
    {
     "data": {
      "text/plain": [
       "Index(['*r-谷氨酰基转换酶', '*丙氨酸氨基转换酶', '*天门冬氨酸氨基转换酶', '*总蛋白', '*球蛋白', '*碱性磷酸酶',\n",
       "       'id', '中性粒细胞%', '乙肝e抗体', '乙肝e抗原', '乙肝核心抗体', '乙肝表面抗体', '乙肝表面抗原',\n",
       "       '低密度脂蛋白胆固醇', '体检日期', '单核细胞%', '嗜碱细胞%', '嗜酸细胞%', '尿素', '尿酸', '年龄', '性别',\n",
       "       '总胆固醇', '淋巴细胞%', '甘油三酯', '白球比例', '白细胞计数', '白蛋白', '红细胞体积分布宽度', '红细胞压积',\n",
       "       '红细胞平均体积', '红细胞平均血红蛋白浓度', '红细胞平均血红蛋白量', '红细胞计数', '肌酐', '血小板体积分布宽度',\n",
       "       '血小板平均体积', '血小板比积', '血小板计数', '血糖', '血红蛋白', '高密度脂蛋白胆固醇'],\n",
       "      dtype='object')"
      ]
     },
     "execution_count": 9,
     "metadata": {},
     "output_type": "execute_result"
    }
   ],
   "source": [
    "import pandas as pd\n",
    "data = pd.read_csv('有血糖值的检测数据.csv', encoding='gbk')\n",
    "data.columns"
   ]
  },
  {
   "attachments": {},
   "cell_type": "markdown",
   "metadata": {},
   "source": [
    "im"
   ]
  }
 ],
 "metadata": {
  "kernelspec": {
   "display_name": "Python 3",
   "language": "python",
   "name": "python3"
  },
  "language_info": {
   "codemirror_mode": {
    "name": "ipython",
    "version": 3
   },
   "file_extension": ".py",
   "mimetype": "text/x-python",
   "name": "python",
   "nbconvert_exporter": "python",
   "pygments_lexer": "ipython3",
   "version": "3.11.0"
  },
  "orig_nbformat": 4
 },
 "nbformat": 4,
 "nbformat_minor": 2
}
