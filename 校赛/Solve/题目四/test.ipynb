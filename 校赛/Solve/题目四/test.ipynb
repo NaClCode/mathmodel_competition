{
 "cells": [
  {
   "cell_type": "code",
   "execution_count": 20,
   "metadata": {},
   "outputs": [
    {
     "data": {
      "image/png": "[encoded data removed]",
      "text/plain": [
       "<Figure size 640x480 with 1 Axes>"
      ]
     },
     "metadata": {},
     "output_type": "display_data"
    }
   ],
   "source": [
    "import pandas as pd\n",
    "import pandas as pd\n",
    "import warnings\n",
    "import pylab as plt\n",
    "warnings.filterwarnings('ignore')\n",
    "data = pd.read_csv('附件2：无血糖值的检测数据.csv', encoding='gbk')[['*天门冬氨酸氨基转换酶', '尿酸', '年龄', '性别', '甘油三酯', '红细胞体积分布宽度', '红细胞平均体积',\n",
    "       '红细胞计数', '血小板平均体积', '血红蛋白']]\n",
    "#男女0-1\n",
    "plt.rc('font', family = 'SimHei', size = 8)\n",
    "plt.rc('axes', unicode_minus = False)\n",
    "data['性别'][data['性别'] == '男'] = 1\n",
    "data['性别'][data['性别'] == '女'] = 0\n",
    "data = data.fillna(data.mean())\n",
    "import joblib\n",
    "from sklearn.preprocessing import MinMaxScaler\n",
    "x = MinMaxScaler().fit_transform(data)\n",
    "model = joblib.load('xgboost.pkl')\n",
    "data['血糖'] = model.predict(x)\n",
    "\n",
    "\n",
    "plt.plot(data['血糖'], 'o', markersize = 1)\n",
    "\n",
    "import joblib\n",
    "model = joblib.load('k-means.pkl')\n",
    "\n",
    "labels_ = model.predict(data['血糖'].values.reshape(-1, 1).astype(float))\n",
    "for i in range(4):\n",
    "    plt.plot(data[labels_ == i]['血糖'], 'o', markersize = 1)\n",
    "    plt.axhline(data[labels_ == i]['血糖'].max(), c = 'r')\n",
    "\n",
    "plt.ylabel('血糖')\n",
    "plt.savefig('结果4.png', dpi = 500)"
   ]
  },
  {
   "cell_type": "code",
   "execution_count": 6,
   "metadata": {},
   "outputs": [],
   "source": [
    "data['糖尿病风险'] = labels_"
   ]
  },
  {
   "cell_type": "code",
   "execution_count": 10,
   "metadata": {},
   "outputs": [],
   "source": [
    "data['糖尿病风险'][data['糖尿病风险'] == 0] = '正常血糖'"
   ]
  },
  {
   "cell_type": "code",
   "execution_count": 15,
   "metadata": {},
   "outputs": [],
   "source": [
    "data['糖尿病风险'][data['糖尿病风险'] == 2] = '具有糖尿病风险'"
   ]
  },
  {
   "cell_type": "code",
   "execution_count": 17,
   "metadata": {},
   "outputs": [],
   "source": [
    "data['糖尿病风险'][data['糖尿病风险'] == 3] = '严重糖尿病'"
   ]
  },
  {
   "cell_type": "code",
   "execution_count": 18,
   "metadata": {},
   "outputs": [],
   "source": [
    "data['糖尿病风险'][data['糖尿病风险'] == 1] = '糖尿病'"
   ]
  },
  {
   "cell_type": "code",
   "execution_count": 19,
   "metadata": {},
   "outputs": [],
   "source": [
    "data.to_excel('结果4.xlsx')"
   ]
  }
 ],
 "metadata": {
  "kernelspec": {
   "display_name": "Python 3",
   "language": "python",
   "name": "python3"
  },
  "language_info": {
   "codemirror_mode": {
    "name": "ipython",
    "version": 3
   },
   "file_extension": ".py",
   "mimetype": "text/x-python",
   "name": "python",
   "nbconvert_exporter": "python",
   "pygments_lexer": "ipython3",
   "version": "3.11.0"
  },
  "orig_nbformat": 4
 },
 "nbformat": 4,
 "nbformat_minor": 2
}
